{
 "cells": [
  {
   "cell_type": "code",
   "execution_count": 1,
   "metadata": {
    "colab": {
     "base_uri": "https://localhost:8080/",
     "height": 530
    },
    "colab_type": "code",
    "id": "6celn0RnWBoC",
    "outputId": "3c445be1-1927-422b-f20b-e1c456e17b7a"
   },
   "outputs": [
    {
     "name": "stdout",
     "output_type": "stream",
     "text": [
      "Collecting tensorflow-gpu==2.0.0-rc0\n",
      "\u001b[?25l  Downloading https://files.pythonhosted.org/packages/6a/12/8c64cc62149cc21c70c55018502831bbf4d42bd62bed196df7de6830d21b/tensorflow_gpu-2.0.0rc0-cp36-cp36m-manylinux2010_x86_64.whl (380.5MB)\n",
      "\u001b[K     |████████████████████████████████| 380.5MB 40kB/s \n",
      "\u001b[?25hCollecting tb-nightly<1.15.0a20190807,>=1.15.0a20190806\n",
      "\u001b[?25l  Downloading https://files.pythonhosted.org/packages/bc/88/24b5fb7280e74c7cf65bde47c171547fd02afb3840cff41bcbe9270650f5/tb_nightly-1.15.0a20190806-py3-none-any.whl (4.3MB)\n",
      "\u001b[K     |████████████████████████████████| 4.3MB 49.8MB/s \n",
      "\u001b[?25hRequirement already satisfied: termcolor>=1.1.0 in /usr/local/lib/python3.6/dist-packages (from tensorflow-gpu==2.0.0-rc0) (1.1.0)\n",
      "Requirement already satisfied: google-pasta>=0.1.6 in /usr/local/lib/python3.6/dist-packages (from tensorflow-gpu==2.0.0-rc0) (0.1.8)\n",
      "Collecting tf-estimator-nightly<1.14.0.dev2019080602,>=1.14.0.dev2019080601\n",
      "\u001b[?25l  Downloading https://files.pythonhosted.org/packages/21/28/f2a27a62943d5f041e4a6fd404b2d21cb7c59b2242a4e73b03d9ba166552/tf_estimator_nightly-1.14.0.dev2019080601-py2.py3-none-any.whl (501kB)\n",
      "\u001b[K     |████████████████████████████████| 501kB 63.9MB/s \n",
      "\u001b[?25hRequirement already satisfied: keras-preprocessing>=1.0.5 in /usr/local/lib/python3.6/dist-packages (from tensorflow-gpu==2.0.0-rc0) (1.1.0)\n",
      "Requirement already satisfied: protobuf>=3.6.1 in /usr/local/lib/python3.6/dist-packages (from tensorflow-gpu==2.0.0-rc0) (3.10.0)\n",
      "Requirement already satisfied: grpcio>=1.8.6 in /usr/local/lib/python3.6/dist-packages (from tensorflow-gpu==2.0.0-rc0) (1.15.0)\n",
      "Requirement already satisfied: wrapt>=1.11.1 in /usr/local/lib/python3.6/dist-packages (from tensorflow-gpu==2.0.0-rc0) (1.11.2)\n",
      "Requirement already satisfied: opt-einsum>=2.3.2 in /usr/local/lib/python3.6/dist-packages (from tensorflow-gpu==2.0.0-rc0) (3.1.0)\n",
      "Requirement already satisfied: six>=1.10.0 in /usr/local/lib/python3.6/dist-packages (from tensorflow-gpu==2.0.0-rc0) (1.12.0)\n",
      "Requirement already satisfied: numpy<2.0,>=1.16.0 in /usr/local/lib/python3.6/dist-packages (from tensorflow-gpu==2.0.0-rc0) (1.17.4)\n",
      "Requirement already satisfied: absl-py>=0.7.0 in /usr/local/lib/python3.6/dist-packages (from tensorflow-gpu==2.0.0-rc0) (0.8.1)\n",
      "Requirement already satisfied: wheel>=0.26 in /usr/local/lib/python3.6/dist-packages (from tensorflow-gpu==2.0.0-rc0) (0.33.6)\n",
      "Requirement already satisfied: astor>=0.6.0 in /usr/local/lib/python3.6/dist-packages (from tensorflow-gpu==2.0.0-rc0) (0.8.0)\n",
      "Requirement already satisfied: keras-applications>=1.0.8 in /usr/local/lib/python3.6/dist-packages (from tensorflow-gpu==2.0.0-rc0) (1.0.8)\n",
      "Requirement already satisfied: gast>=0.2.0 in /usr/local/lib/python3.6/dist-packages (from tensorflow-gpu==2.0.0-rc0) (0.2.2)\n",
      "Requirement already satisfied: werkzeug>=0.11.15 in /usr/local/lib/python3.6/dist-packages (from tb-nightly<1.15.0a20190807,>=1.15.0a20190806->tensorflow-gpu==2.0.0-rc0) (0.16.0)\n",
      "Requirement already satisfied: setuptools>=41.0.0 in /usr/local/lib/python3.6/dist-packages (from tb-nightly<1.15.0a20190807,>=1.15.0a20190806->tensorflow-gpu==2.0.0-rc0) (41.6.0)\n",
      "Requirement already satisfied: markdown>=2.6.8 in /usr/local/lib/python3.6/dist-packages (from tb-nightly<1.15.0a20190807,>=1.15.0a20190806->tensorflow-gpu==2.0.0-rc0) (3.1.1)\n",
      "Requirement already satisfied: h5py in /usr/local/lib/python3.6/dist-packages (from keras-applications>=1.0.8->tensorflow-gpu==2.0.0-rc0) (2.8.0)\n",
      "Installing collected packages: tb-nightly, tf-estimator-nightly, tensorflow-gpu\n",
      "Successfully installed tb-nightly-1.15.0a20190806 tensorflow-gpu-2.0.0rc0 tf-estimator-nightly-1.14.0.dev2019080601\n"
     ]
    }
   ],
   "source": [
    "\n",
    "!pip install tensorflow-gpu==2.0.0-rc0"
   ]
  },
  {
   "cell_type": "code",
   "execution_count": 7,
   "metadata": {
    "colab": {
     "base_uri": "https://localhost:8080/",
     "height": 34
    },
    "colab_type": "code",
    "id": "bWj9X8wxjHaF",
    "outputId": "96061b1c-4d4b-4cbb-a42f-2706c0481e2d"
   },
   "outputs": [
    {
     "name": "stdout",
     "output_type": "stream",
     "text": [
      "Done\n"
     ]
    }
   ],
   "source": [
    "from zipfile import ZipFile\n",
    "file = \"/content/Train.zip\"\n",
    "with ZipFile(file,'r') as zip:\n",
    "    zip.extractall()\n",
    "    print('Done')"
   ]
  },
  {
   "cell_type": "code",
   "execution_count": 0,
   "metadata": {
    "colab": {},
    "colab_type": "code",
    "id": "pLTyxTggjcma"
   },
   "outputs": [],
   "source": [
    "#importer les bibliothéque \n",
    "import os\n",
    "import tensorflow as tf\n",
    "from tensorflow.keras import models  \n",
    "from tensorflow.keras import layers\n",
    "from tensorflow.keras.optimizers import Adam\n",
    "\n",
    "from tensorflow.keras.applications.mobilenet_v2 import MobileNetV2, preprocess_input\n",
    "from tensorflow.keras.applications.mobilenet_v2 import decode_predictions\n",
    "\n",
    "from tensorflow.keras.preprocessing import image\n",
    "from tensorflow.keras.preprocessing.image import ImageDataGenerator\n",
    "import numpy as np\n",
    "\n",
    "from datetime import date\n",
    "from tensorflow.keras.layers import Flatten, Dense, Dropout, BatchNormalization, Conv2D, MaxPool2D\n",
    "import matplotlib.pyplot as plt\n",
    "import matplotlib as mpl\n",
    "import glob\n",
    "import cv2"
   ]
  },
  {
   "cell_type": "code",
   "execution_count": 0,
   "metadata": {
    "colab": {},
    "colab_type": "code",
    "id": "I80zJoR6utkv"
   },
   "outputs": [],
   "source": [
    "base_dir_path = os.getcwd() # current directory\n",
    "train_dir_path = os.path.join(base_dir_path,'Train') #path of train directory\n",
    "test_dir_path = os.path.join(base_dir_path,'Test') #path of test directory\n",
    "MNet_InputSize = (160,160) #size of input images"
   ]
  },
  {
   "cell_type": "code",
   "execution_count": 10,
   "metadata": {
    "colab": {
     "base_uri": "https://localhost:8080/",
     "height": 51
    },
    "colab_type": "code",
    "id": "kq23Fh97uzeY",
    "outputId": "522ed46f-d745-4adb-a01d-0a839d570223"
   },
   "outputs": [
    {
     "name": "stdout",
     "output_type": "stream",
     "text": [
      "Found 7139 images belonging to 6 classes.\n",
      "Found 3350 images belonging to 6 classes.\n"
     ]
    }
   ],
   "source": [
    "#Data augmentation\n",
    "datagen = ImageDataGenerator(rescale=1./255,\n",
    "                             shear_range=0.4,\n",
    "                             zoom_range=0.2,\n",
    "                             rotation_range=50,\n",
    "                             width_shift_range=0.2,\n",
    "                             height_shift_range=0.2,\n",
    "                             horizontal_flip=True,\n",
    "                             fill_mode='nearest')\n",
    "        \n",
    "train_generator = datagen.flow_from_directory(\n",
    "            train_dir_path,  # this is the target directory\n",
    "            target_size=MNet_InputSize,  # all images will be resized\n",
    "            batch_size=16,\n",
    "            class_mode='categorical')  # since we use binary_crossentropy loss, we need binary labels\n",
    "    \n",
    "test_generator = datagen.flow_from_directory(\n",
    "            test_dir_path,  # this is the target directory\n",
    "            target_size=MNet_InputSize,  # all images will be resized\n",
    "            batch_size=16,\n",
    "            class_mode='categorical')  # since we use binary_crossentropy loss, we need binary labels"
   ]
  },
  {
   "cell_type": "code",
   "execution_count": 0,
   "metadata": {
    "colab": {},
    "colab_type": "code",
    "id": "jbU9TrHKu4Ss"
   },
   "outputs": [],
   "source": [
    "# Create the base model from the pre-trained model MobileNet V2\n",
    "base_model = tf.keras.applications.MobileNetV2(input_shape=(160,160,3),\n",
    "                                               include_top=False,\n",
    "                                               pooling='avg',\n",
    "                                               weights='imagenet')"
   ]
  },
  {
   "cell_type": "code",
   "execution_count": 0,
   "metadata": {
    "colab": {},
    "colab_type": "code",
    "id": "N1rq6rWCu-4_"
   },
   "outputs": [],
   "source": [
    "#Unfreeze the convolutional base\n",
    "base_model.trainable = True"
   ]
  },
  {
   "cell_type": "code",
   "execution_count": 0,
   "metadata": {
    "colab": {},
    "colab_type": "code",
    "id": "1llloNwIvHew"
   },
   "outputs": [],
   "source": [
    "#create the classifier model \n",
    "model = models.Sequential()\n",
    "model.add(base_model)\n",
    "model.add(layers.Flatten())\n",
    "model.add(layers.Dense(512,activation='relu'))\n",
    "model.add(BatchNormalization())\n",
    "model.add(layers.Dropout(0.5))  \n",
    "model.add(layers.Dense(6,activation='sigmoid'))\n",
    "\n",
    "#compile the model\n",
    "optimizer = Adam(lr=1e-5, decay=1e-6)\n",
    "model.compile(optimizer=optimizer,loss='binary_crossentropy',metrics=['accuracy'])"
   ]
  },
  {
   "cell_type": "code",
   "execution_count": 28,
   "metadata": {
    "colab": {
     "base_uri": "https://localhost:8080/",
     "height": 357
    },
    "colab_type": "code",
    "id": "E2sTySIPvMQ3",
    "outputId": "300b5b99-1cd6-4211-8bb2-6a5e249e0339"
   },
   "outputs": [
    {
     "name": "stdout",
     "output_type": "stream",
     "text": [
      "Model: \"sequential_2\"\n",
      "_________________________________________________________________\n",
      "Layer (type)                 Output Shape              Param #   \n",
      "=================================================================\n",
      "mobilenetv2_1.00_160 (Model) (None, 1280)              2257984   \n",
      "_________________________________________________________________\n",
      "flatten_2 (Flatten)          (None, 1280)              0         \n",
      "_________________________________________________________________\n",
      "dense_4 (Dense)              (None, 512)               655872    \n",
      "_________________________________________________________________\n",
      "batch_normalization_2 (Batch (None, 512)               2048      \n",
      "_________________________________________________________________\n",
      "dropout_2 (Dropout)          (None, 512)               0         \n",
      "_________________________________________________________________\n",
      "dense_5 (Dense)              (None, 6)                 3078      \n",
      "=================================================================\n",
      "Total params: 2,918,982\n",
      "Trainable params: 2,883,846\n",
      "Non-trainable params: 35,136\n",
      "_________________________________________________________________\n"
     ]
    }
   ],
   "source": [
    "# take a look at the model architecture\n",
    "model.summary()"
   ]
  },
  {
   "cell_type": "code",
   "execution_count": 0,
   "metadata": {
    "colab": {},
    "colab_type": "code",
    "id": "TVsvtQf6vQkW"
   },
   "outputs": [],
   "source": [
    "def SaveModelFile(ClassifyModel,save_model_filename):\n",
    "    \"\"\"\n",
    "    Saves trained classification model\n",
    "    \n",
    "    Args:\n",
    "        ClassifyModel : trained classification Model\n",
    "        save_model_filename(str): filename, to save trained model,without extension.\n",
    "        \n",
    "    Returns:\n",
    "        save_model_filename(str): filename with extension.\n",
    "    \"\"\"\n",
    "    today = date.today()\n",
    "    date_str = today.strftime(\"%d%m%y\")\n",
    "    save_model_filename = '_'.join([save_model_filename,date_str])\n",
    "    save_model_filename = save_model_filename +'.h5'\n",
    "    ClassifyModel.save(save_model_filename)\n",
    "    print('Done Saving Model File...')\n",
    "    return save_model_filename"
   ]
  },
  {
   "cell_type": "code",
   "execution_count": 30,
   "metadata": {
    "colab": {
     "base_uri": "https://localhost:8080/",
     "height": 734
    },
    "colab_type": "code",
    "id": "ZXAsW59yvVDd",
    "outputId": "c907cf83-17a5-4e70-ade7-7cfb68040e25"
   },
   "outputs": [
    {
     "name": "stdout",
     "output_type": "stream",
     "text": [
      "Epoch 1/20\n",
      "447/447 [==============================] - 152s 340ms/step - loss: 0.7952 - accuracy: 0.6176 - val_loss: 0.6942 - val_accuracy: 0.6623\n",
      "Epoch 2/20\n",
      "447/447 [==============================] - 151s 337ms/step - loss: 0.5965 - accuracy: 0.7184 - val_loss: 0.6041 - val_accuracy: 0.7266\n",
      "Epoch 3/20\n",
      "447/447 [==============================] - 151s 338ms/step - loss: 0.4968 - accuracy: 0.7713 - val_loss: 0.5337 - val_accuracy: 0.7770\n",
      "Epoch 4/20\n",
      "447/447 [==============================] - 151s 338ms/step - loss: 0.4160 - accuracy: 0.8155 - val_loss: 0.3844 - val_accuracy: 0.8495\n",
      "Epoch 5/20\n",
      "447/447 [==============================] - 150s 335ms/step - loss: 0.3614 - accuracy: 0.8453 - val_loss: 0.3202 - val_accuracy: 0.8868\n",
      "Epoch 6/20\n",
      "447/447 [==============================] - 150s 336ms/step - loss: 0.3232 - accuracy: 0.8664 - val_loss: 0.2770 - val_accuracy: 0.9092\n",
      "Epoch 7/20\n",
      "447/447 [==============================] - 149s 334ms/step - loss: 0.2781 - accuracy: 0.8875 - val_loss: 0.2515 - val_accuracy: 0.9228\n",
      "Epoch 8/20\n",
      "447/447 [==============================] - 151s 337ms/step - loss: 0.2532 - accuracy: 0.9025 - val_loss: 0.2327 - val_accuracy: 0.9289\n",
      "Epoch 9/20\n",
      "447/447 [==============================] - 157s 351ms/step - loss: 0.2270 - accuracy: 0.9133 - val_loss: 0.2251 - val_accuracy: 0.9297\n",
      "Epoch 10/20\n",
      "447/447 [==============================] - 156s 349ms/step - loss: 0.2107 - accuracy: 0.9226 - val_loss: 0.2051 - val_accuracy: 0.9367\n",
      "Epoch 11/20\n",
      "447/447 [==============================] - 158s 353ms/step - loss: 0.1929 - accuracy: 0.9311 - val_loss: 0.1999 - val_accuracy: 0.9393\n",
      "Epoch 12/20\n",
      "447/447 [==============================] - 156s 348ms/step - loss: 0.1765 - accuracy: 0.9383 - val_loss: 0.1854 - val_accuracy: 0.9448\n",
      "Epoch 13/20\n",
      "447/447 [==============================] - 154s 345ms/step - loss: 0.1669 - accuracy: 0.9414 - val_loss: 0.1768 - val_accuracy: 0.9491\n",
      "Epoch 14/20\n",
      "447/447 [==============================] - 155s 347ms/step - loss: 0.1494 - accuracy: 0.9492 - val_loss: 0.1708 - val_accuracy: 0.9499\n",
      "Epoch 15/20\n",
      "447/447 [==============================] - 155s 347ms/step - loss: 0.1464 - accuracy: 0.9514 - val_loss: 0.1656 - val_accuracy: 0.9510\n",
      "Epoch 16/20\n",
      "447/447 [==============================] - 156s 349ms/step - loss: 0.1325 - accuracy: 0.9583 - val_loss: 0.1503 - val_accuracy: 0.9546\n",
      "Epoch 17/20\n",
      "447/447 [==============================] - 157s 352ms/step - loss: 0.1272 - accuracy: 0.9582 - val_loss: 0.1317 - val_accuracy: 0.9573\n",
      "Epoch 18/20\n",
      "447/447 [==============================] - 157s 352ms/step - loss: 0.1204 - accuracy: 0.9618 - val_loss: 0.1181 - val_accuracy: 0.9616\n",
      "Epoch 19/20\n",
      "447/447 [==============================] - 158s 353ms/step - loss: 0.1127 - accuracy: 0.9632 - val_loss: 0.1297 - val_accuracy: 0.9605\n",
      "Epoch 20/20\n",
      "447/447 [==============================] - 160s 357ms/step - loss: 0.1083 - accuracy: 0.9658 - val_loss: 0.1333 - val_accuracy: 0.9590\n",
      "Done Saving Model File...\n"
     ]
    }
   ],
   "source": [
    "#Train the model\n",
    "history = model.fit_generator(train_generator,\n",
    "                              epochs=20,\n",
    "                              validation_data = test_generator,\n",
    "                              verbose=1)\n",
    "#Save the model\n",
    "trainedModel_Filename = SaveModelFile(model,'multiLabel_model_true')"
   ]
  },
  {
   "cell_type": "code",
   "execution_count": 34,
   "metadata": {
    "colab": {
     "base_uri": "https://localhost:8080/",
     "height": 581
    },
    "colab_type": "code",
    "id": "vUaOWKnTvf3O",
    "outputId": "b0979edd-e649-4198-9587-ffdb1d2a4db8"
   },
   "outputs": [
    {
     "data": {
      "image/png": "[encoded data removed]",
      "text/plain": [
       "<Figure size 432x288 with 1 Axes>"
      ]
     },
     "metadata": {
      "tags": []
     },
     "output_type": "display_data"
    },
    {
     "data": {
      "image/png": "[encoded data removed]",
      "text/plain": [
       "<Figure size 432x288 with 1 Axes>"
      ]
     },
     "metadata": {
      "tags": []
     },
     "output_type": "display_data"
    }
   ],
   "source": [
    "# Plot training & validation accuracy values\n",
    "mpl.use(\"Agg\")\n",
    "plt.style.use(\"ggplot\")\n",
    "plt.figure()\n",
    "plt.plot(history.history['accuracy'])\n",
    "plt.plot(history.history['val_accuracy'])\n",
    "plt.title('Model accuracy')\n",
    "plt.ylabel('Accuracy')\n",
    "plt.xlabel('Epoch')\n",
    "plt.legend(['Train', 'Val'], loc='upper left')\n",
    "plt.show()\n",
    "plt.savefig('Accuracy.png')\n",
    "\n",
    "# Plot training & validation loss values\n",
    "plt.style.use(\"ggplot\")\n",
    "plt.figure()\n",
    "plt.plot(history.history['loss'])\n",
    "plt.plot(history.history['val_loss'])\n",
    "plt.title('Model loss')\n",
    "plt.ylabel('Loss')\n",
    "plt.xlabel('Epoch')\n",
    "plt.legend(['Train', 'Val'], loc='upper left')\n",
    "plt.show()\n",
    "plt.savefig('Loss.png')"
   ]
  },
  {
   "cell_type": "code",
   "execution_count": 0,
   "metadata": {
    "colab": {},
    "colab_type": "code",
    "id": "EIJLWMsdBS0t"
   },
   "outputs": [],
   "source": []
  }
 ],
 "metadata": {
  "accelerator": "GPU",
  "colab": {
   "collapsed_sections": [],
   "name": "TensorFlow with GPU",
   "provenance": [],
   "toc_visible": true
  },
  "kernelspec": {
   "display_name": "Python 3",
   "language": "python",
   "name": "python3"
  },
  "language_info": {
   "codemirror_mode": {
    "name": "ipython",
    "version": 3
   },
   "file_extension": ".py",
   "mimetype": "text/x-python",
   "name": "python",
   "nbconvert_exporter": "python",
   "pygments_lexer": "ipython3",
   "version": "3.7.3"
  }
 },
 "nbformat": 4,
 "nbformat_minor": 1
}
