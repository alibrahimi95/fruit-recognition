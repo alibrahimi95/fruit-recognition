{
 "cells": [
  {
   "cell_type": "code",
   "execution_count": 1,
   "metadata": {},
   "outputs": [],
   "source": [
    "from tensorflow.keras.models import load_model\n",
    "import os\n",
    "from tensorflow.keras.applications.mobilenet_v2 import MobileNetV2, preprocess_input\n",
    "from tensorflow.keras.preprocessing import image\n",
    "import numpy as np\n",
    "import imutils\n",
    "import cv2"
   ]
  },
  {
   "cell_type": "code",
   "execution_count": 2,
   "metadata": {},
   "outputs": [],
   "source": [
    "#load the model\n",
    "trainedModel = load_model(\"multiLabel_model_true_041219.h5\")"
   ]
  },
  {
   "cell_type": "code",
   "execution_count": 3,
   "metadata": {},
   "outputs": [],
   "source": [
    "base_dir_path = os.getcwd() # current directory\n",
    "train_dir_path = os.path.join(base_dir_path,'Train') #train directory\n",
    "#generate dictionnary of classes\n",
    "AllClassNames = os.listdir(train_dir_path)\n",
    "num_of_classes = len(AllClassNames)\n",
    "DictOfClasses = {i : AllClassNames[i] for i in range(0, len(AllClassNames))}\n"
   ]
  },
  {
   "cell_type": "code",
   "execution_count": 10,
   "metadata": {},
   "outputs": [],
   "source": [
    "def predict_fruit(imgPath, Model, dicOfClasses):\n",
    "    img = cv2.imread(imgPath)\n",
    "    output = imutils.resize(img, width=600)\n",
    "    # pre-process the image for classification\n",
    "    img = cv2.resize(img, (160, 160))\n",
    "    img = image.img_to_array(img)\n",
    "    img = np.expand_dims(img, axis=0)\n",
    "    pImg = preprocess_input(img)\n",
    "    \n",
    "    #predict classes\n",
    "    prob = Model.predict(pImg)[0]\n",
    "    top4 = np.argsort(prob)[::-1][:4]\n",
    "    \n",
    "    # loop over the indexes of the high confidence class labels\n",
    "    for (i, j) in enumerate(top4):\n",
    "        #print(DictOfClasses[j], prob[j] *100)\n",
    "        #print(\"{}: {:.2f}%\".format(DictOfClasses[j], prob[j] * 100))\n",
    "        # build the label and draw the label on the image\n",
    "        label = \"{}: {:.2f}%\".format(DictOfClasses[j], prob[j] * 100)\n",
    "        cv2.putText(output, label, (10, (i * 30) + 25),cv2.FONT_HERSHEY_SIMPLEX, 0.5, (0,0 ,255), 2)\n",
    "        \n",
    "    cv2.imwrite('result.jpg', output)\n",
    "    \n",
    "    print(prob)"
   ]
  },
  {
   "cell_type": "code",
   "execution_count": 11,
   "metadata": {},
   "outputs": [
    {
     "name": "stdout",
     "output_type": "stream",
     "text": [
      "[0.31153238 0.09101129 0.01015715 0.17280234 0.08749437 0.01471753]\n"
     ]
    }
   ],
   "source": [
    "predict_fruit('pomme.jpg', trainedModel, DictOfClasses)"
   ]
  },
  {
   "cell_type": "code",
   "execution_count": null,
   "metadata": {},
   "outputs": [],
   "source": []
  }
 ],
 "metadata": {
  "kernelspec": {
   "display_name": "Python 3",
   "language": "python",
   "name": "python3"
  },
  "language_info": {
   "codemirror_mode": {
    "name": "ipython",
    "version": 3
   },
   "file_extension": ".py",
   "mimetype": "text/x-python",
   "name": "python",
   "nbconvert_exporter": "python",
   "pygments_lexer": "ipython3",
   "version": "3.7.3"
  }
 },
 "nbformat": 4,
 "nbformat_minor": 2
}
